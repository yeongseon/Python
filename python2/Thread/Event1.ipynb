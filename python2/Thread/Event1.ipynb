{
 "cells": [
  {
   "cell_type": "code",
   "execution_count": 9,
   "metadata": {
    "collapsed": false
   },
   "outputs": [],
   "source": [
    "from threading import Event\n",
    "from threading import Thread\n",
    "import time\n",
    "import logging"
   ]
  },
  {
   "cell_type": "code",
   "execution_count": 19,
   "metadata": {
    "collapsed": true
   },
   "outputs": [],
   "source": [
    "logging.basicConfig(level=logging.DEBUG,\n",
    "                    format='(%(threadName)-9s) %(message)s',)"
   ]
  },
  {
   "cell_type": "code",
   "execution_count": 20,
   "metadata": {
    "collapsed": true
   },
   "outputs": [],
   "source": [
    "def wait_for_event(e):\n",
    "    logging.debug('wait_for_event starting')\n",
    "    event_is_set = e.wait()\n",
    "    logging.debug('event set: %s', event_is_set)"
   ]
  },
  {
   "cell_type": "code",
   "execution_count": 21,
   "metadata": {
    "collapsed": true
   },
   "outputs": [],
   "source": [
    "def wait_for_event_timeout(e, t):\n",
    "    while not e.isSet():\n",
    "        logging.debug('wait_for_event_timeout starting')\n",
    "        event_is_set = e.wait(t)\n",
    "        logging.debug('event set: %s', event_is_set)\n",
    "        if event_is_set:\n",
    "            logging.debug('processing event')\n",
    "        else:\n",
    "            logging.debug('doing other things')"
   ]
  },
  {
   "cell_type": "code",
   "execution_count": 22,
   "metadata": {
    "collapsed": false
   },
   "outputs": [
    {
     "name": "stderr",
     "output_type": "stream",
     "text": [
      "Traceback (most recent call last):\n",
      "  File \"C:\\Users\\i338162\\AppData\\Local\\Continuum\\Anaconda2\\lib\\logging\\__init__.py\", line 861, in emit\n",
      "    msg = self.format(record)\n",
      "  File \"C:\\Users\\i338162\\AppData\\Local\\Continuum\\Anaconda2\\lib\\logging\\__init__.py\", line 734, in format\n",
      "Traceback (most recent call last):\n",
      "    return fmt.format(record)\n",
      "  File \"C:\\Users\\i338162\\AppData\\Local\\Continuum\\Anaconda2\\lib\\logging\\__init__.py\", line 861, in emit\n",
      "  File \"C:\\Users\\i338162\\AppData\\Local\\Continuum\\Anaconda2\\lib\\logging\\__init__.py\", line 469, in format\n",
      "    msg = self.format(record)\n",
      "Traceback (most recent call last):\n",
      "    s = self._fmt % record.__dict__\n",
      "  File \"C:\\Users\\i338162\\AppData\\Local\\Continuum\\Anaconda2\\lib\\logging\\__init__.py\", line 734, in format\n",
      "  File \"C:\\Users\\i338162\\AppData\\Local\\Continuum\\Anaconda2\\lib\\logging\\__init__.py\", line 861, in emit\n",
      "KeyError: 'threadNmae'\n",
      "    return fmt.format(record)\n",
      "    msg = self.format(record)\n",
      "Logged from file <ipython-input-20-af428ee8f0c1>, line 2\n",
      "  File \"C:\\Users\\i338162\\AppData\\Local\\Continuum\\Anaconda2\\lib\\logging\\__init__.py\", line 469, in format\n",
      "  File \"C:\\Users\\i338162\\AppData\\Local\\Continuum\\Anaconda2\\lib\\logging\\__init__.py\", line 734, in format\n",
      "    return fmt.format(record)\n",
      "    s = self._fmt % record.__dict__\n",
      "  File \"C:\\Users\\i338162\\AppData\\Local\\Continuum\\Anaconda2\\lib\\logging\\__init__.py\", line 469, in format\n",
      "KeyError: 'threadNmae'\n",
      "    s = self._fmt % record.__dict__\n",
      "Logged from file <ipython-input-21-f11236bb0b8c>, line 3\n",
      "KeyError: 'threadNmae'\n",
      "Logged from file <ipython-input-22-20d2cf997dae>, line 9\n",
      "Traceback (most recent call last):\n",
      "  File \"C:\\Users\\i338162\\AppData\\Local\\Continuum\\Anaconda2\\lib\\logging\\__init__.py\", line 861, in emit\n",
      "    msg = self.format(record)\n",
      "  File \"C:\\Users\\i338162\\AppData\\Local\\Continuum\\Anaconda2\\lib\\logging\\__init__.py\", line 734, in format\n",
      "    return fmt.format(record)\n",
      "Traceback (most recent call last):\n",
      "  File \"C:\\Users\\i338162\\AppData\\Local\\Continuum\\Anaconda2\\lib\\logging\\__init__.py\", line 469, in format\n",
      "  File \"C:\\Users\\i338162\\AppData\\Local\\Continuum\\Anaconda2\\lib\\logging\\__init__.py\", line 861, in emit\n",
      "    s = self._fmt % record.__dict__\n",
      "    msg = self.format(record)\n",
      "Traceback (most recent call last):\n",
      "KeyError: 'threadNmae'\n",
      "  File \"C:\\Users\\i338162\\AppData\\Local\\Continuum\\Anaconda2\\lib\\logging\\__init__.py\", line 734, in format\n",
      "  File \"C:\\Users\\i338162\\AppData\\Local\\Continuum\\Anaconda2\\lib\\logging\\__init__.py\", line 861, in emit\n",
      "Logged from file <ipython-input-22-20d2cf997dae>, line 12\n",
      "    return fmt.format(record)\n",
      "    msg = self.format(record)\n",
      "  File \"C:\\Users\\i338162\\AppData\\Local\\Continuum\\Anaconda2\\lib\\logging\\__init__.py\", line 469, in format\n",
      "  File \"C:\\Users\\i338162\\AppData\\Local\\Continuum\\Anaconda2\\lib\\logging\\__init__.py\", line 734, in format\n",
      "    s = self._fmt % record.__dict__\n",
      "    return fmt.format(record)\n",
      "KeyError: 'threadNmae'\n",
      "  File \"C:\\Users\\i338162\\AppData\\Local\\Continuum\\Anaconda2\\lib\\logging\\__init__.py\", line 469, in format\n",
      "Logged from file <ipython-input-21-f11236bb0b8c>, line 5\n",
      "    s = self._fmt % record.__dict__\n",
      "KeyError: 'threadNmae'\n",
      "Traceback (most recent call last):\n",
      "Logged from file <ipython-input-20-af428ee8f0c1>, line 4\n",
      "  File \"C:\\Users\\i338162\\AppData\\Local\\Continuum\\Anaconda2\\lib\\logging\\__init__.py\", line 861, in emit\n",
      "    msg = self.format(record)\n",
      "  File \"C:\\Users\\i338162\\AppData\\Local\\Continuum\\Anaconda2\\lib\\logging\\__init__.py\", line 734, in format\n",
      "    return fmt.format(record)\n",
      "  File \"C:\\Users\\i338162\\AppData\\Local\\Continuum\\Anaconda2\\lib\\logging\\__init__.py\", line 469, in format\n",
      "    s = self._fmt % record.__dict__\n",
      "KeyError: 'threadNmae'\n",
      "Logged from file <ipython-input-21-f11236bb0b8c>, line 7\n"
     ]
    }
   ],
   "source": [
    "e = Event()\n",
    "t1 = Thread(name='blocking', \n",
    "                      target=wait_for_event,\n",
    "                      args=(e,))\n",
    "t1.start()\n",
    "t2 = Thread(name = 'non-blocking', target=wait_for_event_timeout, args=(e, 2))\n",
    "t2.start()\n",
    "    \n",
    "logging.debug('Waiting before calling Event.set()')\n",
    "time.sleep(3)\n",
    "e.set()\n",
    "logging.debug('Event is set')"
   ]
  },
  {
   "cell_type": "code",
   "execution_count": null,
   "metadata": {
    "collapsed": true
   },
   "outputs": [],
   "source": []
  }
 ],
 "metadata": {
  "kernelspec": {
   "display_name": "Python 2",
   "language": "python",
   "name": "python2"
  },
  "language_info": {
   "codemirror_mode": {
    "name": "ipython",
    "version": 2
   },
   "file_extension": ".py",
   "mimetype": "text/x-python",
   "name": "python",
   "nbconvert_exporter": "python",
   "pygments_lexer": "ipython2",
   "version": "2.7.13"
  }
 },
 "nbformat": 4,
 "nbformat_minor": 2
}
